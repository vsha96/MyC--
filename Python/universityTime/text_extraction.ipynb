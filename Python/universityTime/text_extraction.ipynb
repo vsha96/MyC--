{
 "cells": [
  {
   "cell_type": "markdown",
   "metadata": {},
   "source": [
    "## Введение и приготовления"
   ]
  },
  {
   "cell_type": "markdown",
   "metadata": {},
   "source": [
    "В данной работе мы посмотрим библиотеки для выжимки текстов с веб-страниц, а конкретно html2text и BeautifulSoup. Используйте этот notebook для экспериментов."
   ]
  },
  {
   "cell_type": "markdown",
   "metadata": {},
   "source": [
    "Нам понадобится также библиотека для закачки страницы"
   ]
  },
  {
   "cell_type": "code",
   "execution_count": 27,
   "metadata": {},
   "outputs": [],
   "source": [
    "# pip install requests\n",
    "import requests"
   ]
  },
  {
   "cell_type": "code",
   "execution_count": 28,
   "metadata": {},
   "outputs": [
    {
     "name": "stdout",
     "output_type": "stream",
     "text": [
      "200\n"
     ]
    }
   ],
   "source": [
    "url = \"https://www.rbc.ru/\" # вводим адрес страницы, html код которой хотим получить\n",
    "page = requests.get(url) # скачиваем\n",
    "print(page.status_code) # смотрим статус-код, если 200 то все ок"
   ]
  },
  {
   "cell_type": "markdown",
   "metadata": {},
   "source": [
    "# html2text"
   ]
  },
  {
   "cell_type": "markdown",
   "metadata": {},
   "source": [
    "Он более простой в настройках, не такой вариативный как beautifulSoup.\n",
    "Посмотреть документацию html2text можно здесь https://github.com/Alir3z4/html2text/blob/master/README.md\n"
   ]
  },
  {
   "cell_type": "markdown",
   "metadata": {},
   "source": [
    "## установка"
   ]
  },
  {
   "cell_type": "code",
   "execution_count": 29,
   "metadata": {},
   "outputs": [],
   "source": [
    "# pip install html2text"
   ]
  },
  {
   "cell_type": "markdown",
   "metadata": {},
   "source": [
    "## смотрим html2text"
   ]
  },
  {
   "cell_type": "code",
   "execution_count": 30,
   "metadata": {},
   "outputs": [],
   "source": [
    "import html2text"
   ]
  },
  {
   "cell_type": "code",
   "execution_count": 31,
   "metadata": {
    "scrolled": true
   },
   "outputs": [
    {
     "name": "stdout",
     "output_type": "stream",
     "text": [
      "![Top.Mail.Ru](https://top-fwz1.mail.ru/counter?id=3081030;js=na)\n",
      "\n",
      "[ www.adv.rbc.ru ](http://www.adv.rbc.ru)\n",
      "\n",
      "[](https://www.rbc.ru/)\n",
      "\n",
      "[ Телеканал ](https://tv.rbc.ru/?utm_source=topline)\n",
      "\n",
      "[ Газета ](https://www.rbc.ru/newspaper/?utm_source=topline)\n",
      "\n",
      "[ Тренды ](https://trends.rbc.ru/trends/?utm_source=topline)\n",
      "\n",
      "[ РБК+ ](https://plus.rbc.ru/?utm_source=topline)\n",
      "\n",
      "[ Pro ](https://pro.rbc.ru/)\n",
      "\n",
      "[ Инвестиции\n",
      "![](https://s0.rbk.ru/v6_top_pics/media/img/6/75/755940508901756.svg)](https://quote.rbc.ru/?utm_source=topline)\n",
      "\n",
      "[ Авто ](https://www.autonews.ru/?utm_source=topline)\n",
      "\n",
      "[ Спорт ](https://sportrbc.ru/?utm_source=topline)\n",
      "\n",
      "[ Недвижимость ](https://realty.rbc.ru/?utm_source=topline)\n",
      "\n",
      "[ Стиль ](https://style.rbc.ru/?utm_source=topline)\n",
      "\n",
      "[ Национальные проекты ](https://www.rbc.ru/national)\n",
      "\n",
      "[ Крипто ](https://www.rbc.ru/crypto/?utm_source=topline)\n",
      "\n",
      "[ Исследования ](https://marketing.rbc.ru/?utm_source=topline)\n",
      "\n",
      "[ Кредитные рейтинги ](https://ratings.ru/?utm_source=topline)\n",
      "\n",
      "[ Продажа бизнеса ](http://biztorg.ru/offers/main?utm_source=topline)\n",
      "\n",
      "[ Конференции ](https://bc.rbc.ru/?utm_source=topline)\n",
      "\n",
      "[ Журнал ](https://www.rbc.ru/magazine/?utm_source=topline)\n",
      "\n",
      "[ Премия РБК 2019 ](https://www.rbc.ru/awards/?utm_source=topline)\n",
      "\n",
      "[ Премия РБК СПб 2019 ](https://www.rbc.ru/awards_spb/?utm_source=topline)\n",
      "\n",
      "[ Спецпроекты ](https://specials.rbc.ru/?t=on-air)\n",
      "\n",
      "[ Проверка контрагентов ](http://rescore.online/?utm_source=topline)\n",
      "\n",
      "[Экономика\n",
      "образования](https://www.rbc.ru/trends/education/?utm_source=topline)[Здоровье](https://style.rbc.ru/health/?utm_source=rbc&utm_medium=topline&utm_campaign=health_button)\n",
      "\n",
      "[ ... ]()\n",
      "\n",
      "[Скрыть баннеры](https://auth.rbc.ru/login?from=disable_advertising_topline)\n",
      "\n",
      "Ваше местоположение ?\n",
      "\n",
      "ДаВыбрать другое\n",
      "\n",
      "[ Весь мир ](//www.rbc.ru/)\n",
      "\n",
      "[ Санкт-Петербург и область ](//www.rbc.ru/)\n",
      "\n",
      "[ Екатеринбург ](//ekb.rbc.ru/)\n",
      "\n",
      "[ Новосибирск ](//nsk.rbc.ru/)\n",
      "\n",
      "[ Башкортостан ](//ufa.rbc.ru/)\n",
      "\n",
      "[ Вологодская область ](//vo.rbc.ru/)\n",
      "\n",
      "[ Калининград ](//kaliningrad.rbc.ru/)\n",
      "\n",
      "[ Краснодарский край ](//kuban.rbc.ru/)\n",
      "\n",
      "[ Нижний Новгород ](//nn.rbc.ru/)\n",
      "\n",
      "[ Пермский край ](//perm.rbc.ru/)\n",
      "\n",
      "[ Ростов-на-Дону ](//rostov.rbc.ru/)\n",
      "\n",
      "[ Татарстан ](//rt.rbc.ru/)\n",
      "\n",
      "[ Тюмень ](//t.rbc.ru/)\n",
      "\n",
      "[ Черноземье ](//chr.rbc.ru/)\n",
      "\n",
      "[ Кавказ ](//kavkaz.rbc.ru/)\n",
      "\n",
      "Рубрики\n",
      "\n",
      "[ Политика ](https://www.rbc.ru/politics)\n",
      "\n",
      "[ Экономика ](https://www.rbc.ru/economics)\n",
      "\n",
      "[ Финансы ](https://www.rbc.ru/finances)\n",
      "\n",
      "[ Бизнес ](https://www.rbc.ru/business)\n",
      "\n",
      "[ Технологии и медиа ](https://www.rbc.ru/technology_and_media)\n",
      "\n",
      "[ Свое дело ](https://www.rbc.ru/own_business)\n",
      "\n",
      "[ Деньги ](https://www.rbc.ru/money)\n",
      "\n",
      "[ Мнения ](http://www.rbc.ru/opinions)\n",
      "\n",
      "[**Вход**](https://auth.rbc.ru/login?tab=enter&from=login_topline)\n",
      "\n",
      "[ **Регистрация**](https://auth.rbc.ru/login?from=registration_topline)\n",
      "\n",
      "[ Вход ](https://auth.rbc.ru/login?tab=enter&from=login_topline)\n",
      "\n",
      "Поиск\n",
      "\n",
      "Смена региона\n",
      "\n",
      "[Телеканал](https://tv.rbc.ru/?utm_source=topline)\n",
      "\n",
      "[Газета](https://www.rbc.ru/newspaper/?utm_source=topline)\n",
      "\n",
      "[Тренды](https://trends.rbc.ru/trends/?utm_source=topline)\n",
      "\n",
      "[РБК+](https://plus.rbc.ru/?utm_source=topline)\n",
      "\n",
      "[Pro](https://pro.rbc.ru/)\n",
      "\n",
      "[Инвестиции](https://quote.rbc.ru/?utm_source=topline)\n",
      "\n",
      "[Авто](https://www.autonews.ru/?utm_source=topline)\n",
      "\n",
      "[Спорт](https://sportrbc.ru/?utm_source=topline)\n",
      "\n",
      "[Недвижимость](https://realty.rbc.ru/?utm_source=topline)\n",
      "\n",
      "[Стиль](https://style.rbc.ru/?utm_source=topline)\n",
      "\n",
      "[Национальные проекты](https://www.rbc.ru/national)\n",
      "\n",
      "[Крипто](https://www.rbc.ru/crypto/?utm_source=topline)\n",
      "\n",
      "[Исследования](https://marketing.rbc.ru/?utm_source=topline)\n",
      "\n",
      "[Кредитные рейтинги](https://ratings.ru/?utm_source=topline)\n",
      "\n",
      "[Продажа бизнеса](http://biztorg.ru/offers/main?utm_source=topline)\n",
      "\n",
      "[Конференции](https://bc.rbc.ru/?utm_source=topline)\n",
      "\n",
      "[Журнал](https://www.rbc.ru/magazine/?utm_source=topline)\n",
      "\n",
      "[Премия РБК 2019](https://www.rbc.ru/awards/?utm_source=topline)\n",
      "\n",
      "[Премия РБК СПб 2019](https://www.rbc.ru/awards_spb/?utm_source=topline)\n",
      "\n",
      "[Спецпроекты](https://specials.rbc.ru/?t=on-air)\n",
      "\n",
      "[Проверка контрагентов](http://rescore.online/?utm_source=topline)\n",
      "\n",
      "[Здоровье](https://style.rbc.ru/health/?utm_source=rbc&utm_medium=topline&utm_campaign=health_button)\n",
      "\n",
      "[Экономика\n",
      "образования](https://www.rbc.ru/trends/education/?utm_source=topline)\n",
      "\n",
      "Главное меню\n",
      "\n",
      "Рубрики\n",
      "\n",
      "[ Политика ](https://www.rbc.ru/politics)\n",
      "\n",
      "[ Экономика ](https://www.rbc.ru/economics)\n",
      "\n",
      "[ Финансы ](https://www.rbc.ru/finances)\n",
      "\n",
      "[ Бизнес ](https://www.rbc.ru/business)\n",
      "\n",
      "[ Технологии и медиа ](https://www.rbc.ru/technology_and_media)\n",
      "\n",
      "[ Свое дело ](https://www.rbc.ru/own_business)\n",
      "\n",
      "[ Деньги ](https://www.rbc.ru/money)\n",
      "\n",
      "[ Мнения ](http://www.rbc.ru/opinions)\n",
      "\n",
      "Главное меню\n",
      "\n",
      "[ Весь мир ](//www.rbc.ru/)\n",
      "\n",
      "[ С.-Петербург ](//www.rbc.ru/)\n",
      "\n",
      "[ Екатеринбург ](//ekb.rbc.ru/)\n",
      "\n",
      "[ Новосибирск ](//nsk.rbc.ru/)\n",
      "\n",
      "[ Башкортостан ](//ufa.rbc.ru/)\n",
      "\n",
      "[ Вологда ](//vo.rbc.ru/)\n",
      "\n",
      "[ Калининград ](//kaliningrad.rbc.ru/)\n",
      "\n",
      "[ Краснодар ](//kuban.rbc.ru/)\n",
      "\n",
      "[ Н.Новгород ](//nn.rbc.ru/)\n",
      "\n",
      "[ Пермь ](//perm.rbc.ru/)\n",
      "\n",
      "[ Ростов-на-Дону ](//rostov.rbc.ru/)\n",
      "\n",
      "[ Татарстан ](//rt.rbc.ru/)\n",
      "\n",
      "[ Тюмень ](//t.rbc.ru/)\n",
      "\n",
      "[ Черноземье ](//chr.rbc.ru/)\n",
      "\n",
      "[ Кавказ ](//kavkaz.rbc.ru/)\n",
      "\n",
      "Прямой эфир\n",
      "\n",
      "Ошибка воспроизведения видео. Пожалуйста, обновите ваш браузер.\n",
      "\n",
      "Лента новостей\n",
      "\n",
      "[ Курс доллара на 17 сентября  \n",
      "USD ЦБ: 74,93  (-0,26)  Инвестиции, 12:49\n",
      "](https://quote.rbc.ru/exchanges/info/cb.0/72413/eod)\n",
      "\n",
      "[ Курс евро на 17 сентября  \n",
      "EUR ЦБ: 88,86  (-0,5)  Инвестиции, 12:49\n",
      "](https://quote.rbc.ru/exchanges/info/cb.0/72383/eod)\n",
      "\n",
      "[ Минфин раскрыл детали финансовой помощи Белоруссии  Экономика, 19:29\n",
      "](https://www.rbc.ru/economics/16/09/2020/5f6232f09a7947874bf31a8e?from=newsfeed)\n",
      "[ Фигурист сборной России заболел коронавирусом  Спорт, 19:24\n",
      "](https://sportrbc.ru/news/5f623a769a79478a4f44b69c?from=newsfeed) [ Компания\n",
      "из Башкортостана получила финансовую поддержку Корпорации МСП  Пресс-релиз,\n",
      "19:23\n",
      "](http://plus.rbc.ru/pressrelease/5f623a017a8aa936dffba3e0?from=newsfeed)\n",
      "\n",
      "[ www.adv.rbc.ru ](http://www.adv.rbc.ru)\n",
      "\n",
      "[ Шойгу в Минске, правительство поборется с воронами. Главные новости РБК\n",
      "Общество, 19:14\n",
      "](https://www.rbc.ru/ins/society/16/09/2020/5f622bb39a794782b14133cc?from=newsfeed)\n",
      "[ Мэр Нью-Йорка ради экономии решил отправить себя в отпуск  Общество, 19:12\n",
      "](https://www.rbc.ru/society/16/09/2020/5f6231d39a794785c9aea3bd?from=newsfeed)\n",
      "[ BMW приготовила свой первый «горячий» хэтчбек с передним приводом  Авто,\n",
      "19:11 ](https://www.autonews.ru/news/5f62341f9a79478763aaa0ff?from=newsfeed) [\n",
      "Силуанов назвал стоимость сигарет после повышения акциза  Бизнес, 19:10\n",
      "](https://www.rbc.ru/business/16/09/2020/5f622ad89a7947824333a699?from=newsfeed)\n",
      "[ Что смотреть на выставке «Авангард. На телеге в ХХI век» в Ельцин-центре\n",
      "Стиль, 19:04\n",
      "](https://style.rbc.ru/impressions/5f60e1059a79477fac74b134?from=newsfeed) [\n",
      "Компания «Стоун-XXI» объяснила просьбу отменить приговор Ефремову  Общество,\n",
      "18:59 ](https://www.rbc.ru/rbcfreenews/5f6231b29a794785ad0ce927?from=newsfeed)\n",
      "[ Украина и Белоруссия поспорили из-за застрявших на границе хасидов\n",
      "Политика, 18:56\n",
      "](https://www.rbc.ru/politics/16/09/2020/5f6231ea9a79478668b0a823?from=newsfeed)\n",
      "[ ЦИК сообщила об отмене результатов выборов на четырех участках  Общество,\n",
      "18:44\n",
      "](https://www.rbc.ru/society/16/09/2020/5f6211cf9a79477598baf61e?from=newsfeed)\n",
      "[ Тутберидзе опубликовала фотографию с вернувшейся в ее группу Медведевой\n",
      "Спорт, 18:36\n",
      "](https://sportrbc.ru/news/5f622d149a79478354beaeda?from=newsfeed) [ Суд\n",
      "отказал «Локомотиву» в иске на ₽144 млн против бывшего президента  Спорт,\n",
      "18:32 ](https://sportrbc.ru/news/5f622f8d9a79478426c849f1?from=newsfeed) [\n",
      "Кремль опроверг просьбу Лукашенко Путину о поставках вооружения  Политика,\n",
      "18:31\n",
      "](https://www.rbc.ru/politics/16/09/2020/5f6227039a79478082f8b833?from=newsfeed)\n",
      "\n",
      "[ www.adv.rbc.ru ](http://www.adv.rbc.ru)\n",
      "\n",
      "[ www.adv.rbc.ru ](http://www.adv.rbc.ru)\n",
      "\n",
      "[Главное](/)\n",
      "\n",
      "[Лента](/short_news)\n",
      "\n",
      "Эфир\n",
      "\n",
      "Главное\n",
      "\n",
      "[Протесты в Белоруссии](https://www.rbc.ru/story/5eeb458f9a79472a78dda964)\n",
      "\n",
      "[Отравление Навального](https://www.rbc.ru/story/5f3f686a9a7947c6f44e0fef)\n",
      "\n",
      "[Пандемия коронавируса](https://www.rbc.ru/story/5e2881539a794724ab627caa)\n",
      "\n",
      "[Авария с участием\n",
      "Ефремова](https://www.rbc.ru/story/5edf5a139a794785614f0f9e)\n",
      "\n",
      "[Дело губернатора Фургала](https://www.rbc.ru/story/5f0676619a79473e31b184a3)\n",
      "\n",
      "[Дело Ивана Сафронова](https://www.rbc.ru/story/5f0447bb9a79476dbbc7990b)\n",
      "\n",
      "Еще сюжеты\n",
      "\n",
      "Еще сюжеты\n",
      "\n",
      "[ Силуанов назвал стоимость сигарет после повышения акциза\n",
      "](https://www.rbc.ru/business/16/09/2020/5f622ad89a7947824333a699?from=from_main_1)\n",
      "\n",
      "[ Шойгу в Минске, правительство поборется с воронами. Главные новости\n",
      "РБК](https://www.rbc.ru/ins/society/16/09/2020/5f622bb39a794782b14133cc?from=from_main_2)\n",
      "\n",
      "[ www.adv.rbc.ru ](http://www.adv.rbc.ru)\n",
      "\n",
      "[ Отравление Навального. Что важно\n",
      "знать](https://www.rbc.ru/politics/16/09/2020/5f3e1dd29a79473eeffa06f5?from=from_main_3)\n",
      "\n",
      "[ Протесты после президентских выборов в Белоруссии.\n",
      "Главное](https://www.rbc.ru/politics/16/09/2020/5f2da0ba9a794785a5e94016?from=from_main_4)\n",
      "\n",
      "[ Колесниковой предъявили обвинение в причинении вреда\n",
      "Белоруссии](https://www.rbc.ru/politics/16/09/2020/5f621cdb9a79477b4395b8cd?from=from_main_5)\n",
      "\n",
      "[ Суд в Киеве встал на сторону властей в споре об украинской «дочке»\n",
      "ВЭБа](https://www.rbc.ru/finances/16/09/2020/5f620f8d9a79477496d103c0?from=from_main_6)\n",
      "\n",
      "[ Лукашенко рассказал о семи этапах сценария по «уничтожению\n",
      "Белоруссии»](https://www.rbc.ru/politics/16/09/2020/5f6215f69a7947777f637d4b?from=from_main_7)\n",
      "\n",
      "[ Мэр Нью-Йорка ради экономии решил отправить себя в\n",
      "отпуск](https://www.rbc.ru/society/16/09/2020/5f6231d39a794785c9aea3bd?from=from_main_8)\n",
      "\n",
      "[ www.adv.rbc.ru ](http://www.adv.rbc.ru)\n",
      "\n",
      "[ JP Morgan назвал угрозой рынкам возможный сброс акций на $200\n",
      "млрд](https://quote.rbc.ru/news/article/5f6221019a79477e342e7490?from=from_main_9)\n",
      "\n",
      "[ Кремль опроверг просьбу Лукашенко Путину о поставках\n",
      "вооружения](https://www.rbc.ru/politics/16/09/2020/5f6227039a79478082f8b833?from=from_main_10)\n",
      "\n",
      "[ ЦИК сообщила об отмене результатов выборов на четырех\n",
      "участках](https://www.rbc.ru/society/16/09/2020/5f6211cf9a79477598baf61e?from=from_main_11)\n",
      "\n",
      "[ В ЕС предложили России не обмениваться «вопросниками» по\n",
      "Навальному](https://www.rbc.ru/politics/16/09/2020/5f6205829a79476f0e385642?from=from_main_12)\n",
      "\n",
      "[ Владелец разбитого Ефремовым фургона попросил отменить приговор\n",
      "актеру](https://www.rbc.ru/society/16/09/2020/5f61f9529a794769ec8c622d?from=from_main_13)\n",
      "\n",
      "[ Суд отказал «Локомотиву» в иске на ₽144 млн против бывшего\n",
      "президента](https://sportrbc.ru/news/5f622f8d9a79478426c849f1?from=from_main_14)\n",
      "\n",
      "[ РБК Pro: 15 распространенных ошибок в\n",
      "аргументации](https://pro.rbc.ru/news/5f5a4ae69a794792ac4c8830?from=from_main_15&utm_source=rbc.ru&utm_medium=inhouse_media&utm_campaign=lines&utm_content=5f5a4ae69a794792ac4c8830)\n",
      "\n",
      "[ www.adv.rbc.ru ](http://www.adv.rbc.ru)\n",
      "\n",
      "[ www.adv.rbc.ru ](http://www.adv.rbc.ru)\n",
      "\n",
      "[ www.adv.rbc.ru ](http://www.adv.rbc.ru)\n",
      "\n",
      "[ www.adv.rbc.ru ](http://www.adv.rbc.ru)\n",
      "\n",
      "РБК\n",
      "\n",
      "[О компании](http://www.rbcholding.ru/about.shtml)\n",
      "\n",
      "[Контактная информация](https://www.rbc.ru/contacts/)\n",
      "\n",
      "[Редакция](https://www.rbc.ru/editors/)\n",
      "\n",
      "[Размещение рекламы](https://rbc.ru/advert/)\n",
      "\n",
      "[Стажерская программа](http://intern.rbc.ru/)\n",
      "\n",
      "Социальные сети\n",
      "\n",
      "[Facebook](http://facebook.com/rbcru)\n",
      "\n",
      "[ВКонтакте](https://vk.com/rbc)\n",
      "\n",
      "[Twitter](http://twitter.com/ru_rbc)\n",
      "\n",
      "[Одноклассники](http://www.odnoklassniki.ru/group/51670727852273)\n",
      "\n",
      "[YouTube](http://www.youtube.com/user/tvrbcnews)\n",
      "\n",
      "[Telegram](https://t.me/rbc_news)\n",
      "\n",
      "[Instagram](https://www.instagram.com/rbc_ru/)\n",
      "\n",
      "[Дзен](https://zen.yandex.ru/rbc.ru)\n",
      "\n",
      "Новости регионов\n",
      "\n",
      "[Санкт-Петербург и область](https://www.rbc.ru/spb_sz/)\n",
      "\n",
      "[Екатеринбург](https://ekb.rbc.ru/ekb/)\n",
      "\n",
      "[Новосибирск](https://nsk.rbc.ru/nsk/)\n",
      "\n",
      "[Башкортостан](https://ufa.rbc.ru/ufa/)\n",
      "\n",
      "[Вологодская область](https://vo.rbc.ru/vo/)\n",
      "\n",
      "[Калининград](https://kaliningrad.rbc.ru/kaliningrad/)\n",
      "\n",
      "[Краснодарский край](https://kuban.rbc.ru/krasnodar/)\n",
      "\n",
      "[Нижний Новгород](https://nn.rbc.ru/nn/)\n",
      "\n",
      "[Пермский край](https://perm.rbc.ru/perm/)\n",
      "\n",
      "[Ростов-на-Дону](https://rostov.rbc.ru/rostov/)\n",
      "\n",
      "[Татарстан](https://rt.rbc.ru/tatarstan/)\n",
      "\n",
      "[Тюмень](https://t.rbc.ru/tyumen/)\n",
      "\n",
      "[Черноземье](https://chr.rbc.ru/chr/)\n",
      "\n",
      "[Кавказ](https://kavkaz.rbc.ru/kavkaz/)\n",
      "\n",
      "Подписки\n",
      "\n",
      "[Скрыть баннеры](https://auth.rbc.ru/login?from=disable_advertising_footer)\n",
      "\n",
      "[Рассылка РБК Pro](https://www.rbc.ru/subscribe/)\n",
      "\n",
      "Уведомления\n",
      "\n",
      "[RSS Новости](http://static.feed.rbc.ru/rbc/logical/footer/news.rss)\n",
      "\n",
      "[Оповещения RBC.ru](https://app.rbc.ru/gpn/unsubscribe.html)\n",
      "\n",
      "РБК Главное\n",
      "\n",
      "[iOS](https://itunes.apple.com/ru/app/%D1%80%D0%B1%D0%BA-%D0%B3%D0%BB%D0%B0%D0%B2%D0%BD%D0%BE%D0%B5/id483524731?mt=8)\n",
      "\n",
      "[Android](https://play.google.com/store/apps/details?id=ru.rbc.news.starter)\n",
      "\n",
      "РБК Лента новостей\n",
      "\n",
      "[iOS](https://itunes.apple.com/ru/app/%D1%80%D0%B1%D0%BA-%D0%BB%D0%B5%D0%BD%D1%82%D0%B0-%D0%BD%D0%BE%D0%B2%D0%BE%D1%81%D1%82%D0%B5%D0%B9/id1172278022)\n",
      "\n",
      "[Android](https://play.google.com/store/apps/details?id=ru.rbc.newsline)\n",
      "\n",
      "Другие продукты РБК\n",
      "\n",
      "[Домены и хостинг](https://www.nic.ru/)\n",
      "\n",
      "[Медиапоиск и анализ](http://www.public.ru/)\n",
      "\n",
      "[Знакомства](http://loveplanet.ru/)\n",
      "\n",
      "[РБК Компании](https://www.rbc.ru/companies/)\n",
      "\n",
      "[Информация об ограничениях](https://www.rbc.ru/restrictions)\n",
      "\n",
      "[Правовая информация](https://www.rbc.ru/info/)\n",
      "\n",
      "[О соблюдении авторских прав](http://www.rbc.ru/privacy/)\n",
      "\n",
      "Юридическая информация\n",
      "\n",
      "[Информация об ограничениях](https://www.rbc.ru/restrictions)\n",
      "\n",
      "[Правовая информация](https://www.rbc.ru/info/)\n",
      "\n",
      "[О соблюдении авторских прав](http://www.rbc.ru/privacy/)\n",
      "\n",
      "(C) АО «РОСБИЗНЕСКОНСАЛТИНГ», 1995–2020. Сообщения и материалы информационного\n",
      "агентства «РБК» (зарегистрировано Федеральной службой по надзору в сфере\n",
      "связи, информационных технологий и массовых коммуникаций (Роскомнадзор)\n",
      "09.12.2015 за номером ИА №ФС77-63848) сопровождаются пометкой «РБК». Отдельные\n",
      "публикации могут содержать информацию, не предназначенную для пользователей до\n",
      "18 лет. [letters@rbc.ru](mailto:letters@rbc.ru)\n",
      "\n",
      "Котировки мировых финансовых инструментов предоставлены\n",
      "[Reuters](https://www.rbc.ru/restrictions#reuters)\n",
      "\n",
      "Чтобы отправить редакции сообщение, выделите часть текста в статье и нажмите\n",
      "Ctrl+Enter\n",
      "\n",
      "[ ](/)\n",
      "\n",
      "![](//www.tns-counter.ru/V13a****rbc_ru/ru/UTF-8/tmsec=rbcru_news/)\n",
      "\n",
      "![](//mc.yandex.ru/watch/16443139)\n",
      "\n",
      "![](/info-service/api/v2/noscripts)\n",
      "\n",
      "\n"
     ]
    }
   ],
   "source": [
    "text = html2text.html2text(page.text) # данной функцией чистим теги\n",
    "# в квадратных скобках оставляет текст\n",
    "# рядом, в круглых, ссылки\n",
    "print(text) # выводим текст"
   ]
  },
  {
   "cell_type": "markdown",
   "metadata": {},
   "source": [
    "# ===== ===== ===== ===== ===== ====="
   ]
  },
  {
   "cell_type": "markdown",
   "metadata": {},
   "source": [
    "# BeatifulSoup"
   ]
  },
  {
   "cell_type": "markdown",
   "metadata": {},
   "source": [
    "Настроек уже гораздо больше. При отсеивании html-тегов он может оставлять иерархию, то есть вложенность одних тегов в другие (что нужно не упускать из виду, так как, к примеру, при поиске определенного класса новостей (увидим далее) мы можем просто не зацепить нужные нам новости, потому что у них есть класс поверх)"
   ]
  },
  {
   "cell_type": "markdown",
   "metadata": {},
   "source": [
    "Документация здесь (здесь также есть еще больше примеров, как и что использовать) \n",
    "https://www.crummy.com/software/BeautifulSoup/bs4/doc/"
   ]
  },
  {
   "cell_type": "markdown",
   "metadata": {},
   "source": [
    "## установка"
   ]
  },
  {
   "cell_type": "code",
   "execution_count": 32,
   "metadata": {},
   "outputs": [],
   "source": [
    "# pip install beautifulsoup4"
   ]
  },
  {
   "cell_type": "markdown",
   "metadata": {},
   "source": [
    "## смотрим BeautifulSoup"
   ]
  },
  {
   "cell_type": "code",
   "execution_count": 35,
   "metadata": {},
   "outputs": [],
   "source": [
    "# импортируем\n",
    "from bs4 import BeautifulSoup"
   ]
  },
  {
   "cell_type": "code",
   "execution_count": 40,
   "metadata": {},
   "outputs": [],
   "source": [
    "soup = BeautifulSoup(page.text, \"html.parser\") # выжимаем страничку, указывая парсер (увидим при вызове .get_text)\n",
    "# можете посмотреть, что получается\n",
    "# print(soup)\n",
    "# дальше прикол со скриптами"
   ]
  },
  {
   "cell_type": "code",
   "execution_count": 43,
   "metadata": {},
   "outputs": [],
   "source": [
    "text = soup.get_text() # берем только текст\n",
    "# можно заметить, что текст скриптов остался, отдельно нужно чистить\n",
    "# print(text)"
   ]
  },
  {
   "cell_type": "markdown",
   "metadata": {},
   "source": [
    "просмотрите html"
   ]
  },
  {
   "cell_type": "code",
   "execution_count": 45,
   "metadata": {},
   "outputs": [],
   "source": [
    "# print(soup)"
   ]
  },
  {
   "cell_type": "markdown",
   "metadata": {},
   "source": [
    "можно увидеть классы новостей, по ним можем сделать фильтр"
   ]
  },
  {
   "cell_type": "code",
   "execution_count": 69,
   "metadata": {},
   "outputs": [],
   "source": [
    "# создадим списки\n",
    "new_news = [] # для желаемых новостей\n",
    "news = [] # а с помощью этого массива мы попадем в класс новостей, из которого достанем уже подкласс для списка new_news"
   ]
  },
  {
   "cell_type": "code",
   "execution_count": 70,
   "metadata": {
    "scrolled": true
   },
   "outputs": [
    {
     "name": "stdout",
     "output_type": "stream",
     "text": [
      "[<span class=\"news-feed__item__title news-feed__item_bold\">\n",
      "        Курс доллара на 17 сентября<br/>\n",
      "        USD ЦБ: 74,93\n",
      "        <span class=\"news-feed__item__change item__change_fall\">\n",
      "                        (-0,26)\n",
      "        </span>\n",
      "</span>, <span class=\"news-feed__item__title news-feed__item_bold\">\n",
      "        Курс евро на 17 сентября<br/>\n",
      "        EUR ЦБ: 88,86\n",
      "        <span class=\"news-feed__item__change item__change_fall\">\n",
      "                        (-0,5)\n",
      "        </span>\n",
      "</span>, <span class=\"news-feed__item__title\">\n",
      "            Минфин раскрыл детали финансовой помощи Белоруссии\n",
      "        </span>, <span class=\"news-feed__item__title\">\n",
      "            Фигурист сборной России заболел коронавирусом\n",
      "        </span>, <span class=\"news-feed__item__title\">\n",
      "            Компания из Башкортостана получила финансовую поддержку Корпорации МСП\n",
      "        </span>, <span class=\"news-feed__item__title news-feed__item_in-main\">\n",
      "            Шойгу в Минске, правительство поборется с воронами. Главные новости РБК\n",
      "        </span>, <span class=\"news-feed__item__title news-feed__item_in-main\">\n",
      "            Мэр Нью-Йорка ради экономии решил отправить себя в отпуск\n",
      "        </span>, <span class=\"news-feed__item__title\">\n",
      "            BMW приготовила свой первый «горячий» хэтчбек с передним приводом\n",
      "        </span>, <span class=\"news-feed__item__title news-feed__item_in-main\">\n",
      "            Силуанов назвал стоимость сигарет после повышения акциза\n",
      "        </span>, <span class=\"news-feed__item__title\">\n",
      "            Что смотреть на выставке «Авангард. На телеге в ХХI век» в Ельцин-центре\n",
      "        </span>, <span class=\"news-feed__item__title\">\n",
      "            Компания «Стоун-XXI» объяснила просьбу отменить приговор Ефремову\n",
      "        </span>, <span class=\"news-feed__item__title\">\n",
      "            Украина и Белоруссия поспорили из-за застрявших на границе хасидов\n",
      "        </span>, <span class=\"news-feed__item__title news-feed__item_in-main\">\n",
      "            ЦИК сообщила об отмене результатов выборов на четырех участках\n",
      "        </span>, <span class=\"news-feed__item__title\">\n",
      "            Тутберидзе опубликовала фотографию с вернувшейся в ее группу Медведевой\n",
      "        </span>, <span class=\"news-feed__item__title news-feed__item_in-main\">\n",
      "            Суд отказал «Локомотиву» в иске на ₽144 млн против бывшего президента\n",
      "        </span>, <span class=\"news-feed__item__title news-feed__item_in-main\">\n",
      "            Кремль опроверг просьбу Лукашенко Путину о поставках вооружения\n",
      "        </span>]\n"
     ]
    }
   ],
   "source": [
    "# берем все новости с тегом <span> и уточняем класс\n",
    "news = soup.findAll('span', class_=\"news-feed__item__title\") # ищем все новости news-feed__item__title\n",
    "print(news)"
   ]
  },
  {
   "cell_type": "markdown",
   "metadata": {},
   "source": [
    "продолжаем выжимать нужные новости, уточняем класс"
   ]
  },
  {
   "cell_type": "code",
   "execution_count": 71,
   "metadata": {},
   "outputs": [],
   "source": [
    "for i in range(len(news)):\n",
    "    if news[i].find('span', class_='news-feed__item_in-main') is None: # ищем в каждом элементе новость с классом\n",
    "        new_news.append(news[i].text) # добавляем в новых список"
   ]
  },
  {
   "cell_type": "code",
   "execution_count": 72,
   "metadata": {
    "scrolled": true
   },
   "outputs": [
    {
     "name": "stdout",
     "output_type": "stream",
     "text": [
      "\n",
      "        Курс доллара на 17 сентября\n",
      "        USD ЦБ: 74,93\n",
      "        \n",
      "                        (-0,26)\n",
      "        \n",
      "\n",
      "\n",
      "        Курс евро на 17 сентября\n",
      "        EUR ЦБ: 88,86\n",
      "        \n",
      "                        (-0,5)\n",
      "        \n",
      "\n",
      "\n",
      "            Минфин раскрыл детали финансовой помощи Белоруссии\n",
      "        \n",
      "\n",
      "            Фигурист сборной России заболел коронавирусом\n",
      "        \n",
      "\n",
      "            Компания из Башкортостана получила финансовую поддержку Корпорации МСП\n",
      "        \n",
      "\n",
      "            Шойгу в Минске, правительство поборется с воронами. Главные новости РБК\n",
      "        \n",
      "\n",
      "            Мэр Нью-Йорка ради экономии решил отправить себя в отпуск\n",
      "        \n",
      "\n",
      "            BMW приготовила свой первый «горячий» хэтчбек с передним приводом\n",
      "        \n",
      "\n",
      "            Силуанов назвал стоимость сигарет после повышения акциза\n",
      "        \n",
      "\n",
      "            Что смотреть на выставке «Авангард. На телеге в ХХI век» в Ельцин-центре\n",
      "        \n",
      "\n",
      "            Компания «Стоун-XXI» объяснила просьбу отменить приговор Ефремову\n",
      "        \n",
      "\n",
      "            Украина и Белоруссия поспорили из-за застрявших на границе хасидов\n",
      "        \n",
      "\n",
      "            ЦИК сообщила об отмене результатов выборов на четырех участках\n",
      "        \n",
      "\n",
      "            Тутберидзе опубликовала фотографию с вернувшейся в ее группу Медведевой\n",
      "        \n",
      "\n",
      "            Суд отказал «Локомотиву» в иске на ₽144 млн против бывшего президента\n",
      "        \n",
      "\n",
      "            Кремль опроверг просьбу Лукашенко Путину о поставках вооружения\n",
      "        \n"
     ]
    }
   ],
   "source": [
    "# печатаем все попавшие новости\n",
    "for i in range(len(new_news)):\n",
    "    print(new_news[i])"
   ]
  },
  {
   "cell_type": "markdown",
   "metadata": {},
   "source": [
    "# ===== ===== ===== ===== ===== ====="
   ]
  },
  {
   "cell_type": "markdown",
   "metadata": {},
   "source": [
    "Еще пример с другим сайтом, у которого очень удобный код для мобильной версии"
   ]
  },
  {
   "cell_type": "markdown",
   "metadata": {},
   "source": [
    "### На заметку: мобильные версии сайтов могут упрощать структуру html кода"
   ]
  },
  {
   "cell_type": "code",
   "execution_count": 83,
   "metadata": {},
   "outputs": [
    {
     "name": "stdout",
     "output_type": "stream",
     "text": [
      "200\n"
     ]
    }
   ],
   "source": [
    "url_mob = 'http://mignews.com/mobile'\n",
    "page_mob = requests.get(url_mob)\n",
    "print(page_mob.status_code)\n",
    "new_news_mob = []\n",
    "news_mob = []\n",
    "soup_mob = BeautifulSoup(page_mob.text, \"html.parser\")\n",
    "news_mob = soup_mob.findAll('a', class_='lenta')"
   ]
  },
  {
   "cell_type": "code",
   "execution_count": 84,
   "metadata": {},
   "outputs": [],
   "source": [
    "for i in range(len(news)):\n",
    "    if news_mob[i].find('span', class_='time2') is not None:\n",
    "        new_news_mob.append(news_mob[i].text)"
   ]
  },
  {
   "cell_type": "code",
   "execution_count": 85,
   "metadata": {},
   "outputs": [
    {
     "name": "stdout",
     "output_type": "stream",
     "text": [
      "19:44 Оппозиции Беларуси нужна финпомощь от ЕС, а не от РФ\n",
      "19:37 COVID-19 в Израиле: 5494 зараженных за сутки, 1163 жертв\n",
      "19:35 Израиль: 435 случаев заражения в день на миллион жителей\n",
      "19:27 Кац: \"ускоренная амортизация\" – во всех секторах экономики\n",
      "19:10 Отсидеться в армии не удастся\n",
      "19:10 Ганц сделал предупреждение ХАМАСу\n",
      "18:56 Численность населения Израиля выросла за год на 1,6%\n",
      "18:34 Экс-мисс Ирак приветствовала соглашения с Израилем\n",
      "18:13 Обнадеживающие результаты лечения COVID-19 антителами\n",
      "18:00 \"Евреи наши собаки\": детский стих из Бахрейна\n",
      "17:52 Ситуацию с Навальным сравнили с отравлением Скрипалей\n",
      "17:38 OECD: прогноз падения мировой экономики – не так плох\n",
      "17:30 Опубликовано последнее фото покончившего с собой Тесака\n",
      "17:26 Нетаниягу номинирован на Нобелевскую премию мира\n",
      "17:21 Украина из-за хасидов закрыла границу с Беларусью\n",
      "17:18 Российский националист Тесак найден мертвым в камере СИЗО\n"
     ]
    }
   ],
   "source": [
    "for i in range(len(new_news_mob)):\n",
    "    print(new_news_mob[i])"
   ]
  }
 ],
 "metadata": {
  "kernelspec": {
   "display_name": "Python 3",
   "language": "python",
   "name": "python3"
  },
  "language_info": {
   "codemirror_mode": {
    "name": "ipython",
    "version": 3
   },
   "file_extension": ".py",
   "mimetype": "text/x-python",
   "name": "python",
   "nbconvert_exporter": "python",
   "pygments_lexer": "ipython3",
   "version": "3.7.4"
  }
 },
 "nbformat": 4,
 "nbformat_minor": 2
}
