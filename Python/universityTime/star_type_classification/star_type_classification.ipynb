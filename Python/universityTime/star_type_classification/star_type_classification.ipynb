{
 "cells": [
  {
   "cell_type": "markdown",
   "metadata": {},
   "source": [
    "# Определяем тип звезды\n",
    "#### © Шулюгин Иван МГУ ВМК 325. ноябрь 2020"
   ]
  },
  {
   "cell_type": "markdown",
   "metadata": {},
   "source": [
    "## Dataset"
   ]
  },
  {
   "cell_type": "markdown",
   "metadata": {},
   "source": [
    "Размеченные данные отсюда - https://www.kaggle.com/deepu1109/star-dataset"
   ]
  },
  {
   "cell_type": "markdown",
   "metadata": {},
   "source": [
    "Каждая строка описывает следующие признаки звезды: \n",
    "<li> абсолютная температура (в Кельвинах) </li>\n",
    "<li> относительная яркость (относительно Солнца) </li>\n",
    "<li> относительный радиус (относительно Солнца) </li>\n",
    "<li> абсолютная велечина </li>\n",
    "<li> тип звезды (это цель)</li>\n",
    "<li> цвет звезды </li>\n",
    "<li> спектральный класс </li>\n"
   ]
  },
  {
   "cell_type": "markdown",
   "metadata": {},
   "source": [
    "Тип звезды (биект.отображение): [0, 1, 2, 3, 4, 5] <-> [Red Dwarf, Brown Dwarf, White Dwarf, Main Sequence , SuperGiants, HyperGiants]"
   ]
  },
  {
   "cell_type": "code",
   "execution_count": 1,
   "metadata": {},
   "outputs": [],
   "source": [
    "# посмотрим на данные\n",
    "import pandas as pd"
   ]
  },
  {
   "cell_type": "code",
   "execution_count": 2,
   "metadata": {},
   "outputs": [],
   "source": [
    "file_name = '6_class.csv'"
   ]
  },
  {
   "cell_type": "code",
   "execution_count": 3,
   "metadata": {},
   "outputs": [
    {
     "data": {
      "text/html": [
       "<div>\n",
       "<style scoped>\n",
       "    .dataframe tbody tr th:only-of-type {\n",
       "        vertical-align: middle;\n",
       "    }\n",
       "\n",
       "    .dataframe tbody tr th {\n",
       "        vertical-align: top;\n",
       "    }\n",
       "\n",
       "    .dataframe thead th {\n",
       "        text-align: right;\n",
       "    }\n",
       "</style>\n",
       "<table border=\"1\" class=\"dataframe\">\n",
       "  <thead>\n",
       "    <tr style=\"text-align: right;\">\n",
       "      <th></th>\n",
       "      <th>Temperature (K)</th>\n",
       "      <th>Luminosity(L/Lo)</th>\n",
       "      <th>Radius(R/Ro)</th>\n",
       "      <th>Absolute magnitude(Mv)</th>\n",
       "      <th>Star type</th>\n",
       "      <th>Star color</th>\n",
       "      <th>Spectral Class</th>\n",
       "    </tr>\n",
       "  </thead>\n",
       "  <tbody>\n",
       "    <tr>\n",
       "      <td>0</td>\n",
       "      <td>3068</td>\n",
       "      <td>0.002400</td>\n",
       "      <td>0.1700</td>\n",
       "      <td>16.12</td>\n",
       "      <td>0</td>\n",
       "      <td>Red</td>\n",
       "      <td>M</td>\n",
       "    </tr>\n",
       "    <tr>\n",
       "      <td>1</td>\n",
       "      <td>3042</td>\n",
       "      <td>0.000500</td>\n",
       "      <td>0.1542</td>\n",
       "      <td>16.60</td>\n",
       "      <td>0</td>\n",
       "      <td>Red</td>\n",
       "      <td>M</td>\n",
       "    </tr>\n",
       "    <tr>\n",
       "      <td>2</td>\n",
       "      <td>2600</td>\n",
       "      <td>0.000300</td>\n",
       "      <td>0.1020</td>\n",
       "      <td>18.70</td>\n",
       "      <td>0</td>\n",
       "      <td>Red</td>\n",
       "      <td>M</td>\n",
       "    </tr>\n",
       "    <tr>\n",
       "      <td>3</td>\n",
       "      <td>2800</td>\n",
       "      <td>0.000200</td>\n",
       "      <td>0.1600</td>\n",
       "      <td>16.65</td>\n",
       "      <td>0</td>\n",
       "      <td>Red</td>\n",
       "      <td>M</td>\n",
       "    </tr>\n",
       "    <tr>\n",
       "      <td>4</td>\n",
       "      <td>1939</td>\n",
       "      <td>0.000138</td>\n",
       "      <td>0.1030</td>\n",
       "      <td>20.06</td>\n",
       "      <td>0</td>\n",
       "      <td>Red</td>\n",
       "      <td>M</td>\n",
       "    </tr>\n",
       "  </tbody>\n",
       "</table>\n",
       "</div>"
      ],
      "text/plain": [
       "   Temperature (K)  Luminosity(L/Lo)  Radius(R/Ro)  Absolute magnitude(Mv)  \\\n",
       "0             3068          0.002400        0.1700                   16.12   \n",
       "1             3042          0.000500        0.1542                   16.60   \n",
       "2             2600          0.000300        0.1020                   18.70   \n",
       "3             2800          0.000200        0.1600                   16.65   \n",
       "4             1939          0.000138        0.1030                   20.06   \n",
       "\n",
       "   Star type Star color Spectral Class  \n",
       "0          0        Red              M  \n",
       "1          0        Red              M  \n",
       "2          0        Red              M  \n",
       "3          0        Red              M  \n",
       "4          0        Red              M  "
      ]
     },
     "execution_count": 3,
     "metadata": {},
     "output_type": "execute_result"
    }
   ],
   "source": [
    "df = pd.read_csv(file_name)\n",
    "df.head()\n",
    "\n",
    "# rows = csv.reader(file_csv) # берем ряды таблицы\n",
    "# df = pd.read_csv(file_csv, usecols=['Temperature (K)','Absolute magnitude(Mv)','Star type'])\n",
    "# print(df.values)\n",
    "# print(df.values.tolist)"
   ]
  },
  {
   "cell_type": "markdown",
   "metadata": {},
   "source": [
    "Сделаем график, ориентируясь на температуру и абс.величину"
   ]
  },
  {
   "cell_type": "code",
   "execution_count": 5,
   "metadata": {
    "scrolled": true
   },
   "outputs": [
    {
     "data": {
      "image/png": "[encoded data removed]",
      "text/plain": [
       "<Figure size 432x288 with 1 Axes>"
      ]
     },
     "metadata": {},
     "output_type": "display_data"
    }
   ],
   "source": [
    "import seaborn as sns\n",
    "import matplotlib.pyplot as plt\n",
    "sns.set_theme(style=\"whitegrid\")\n",
    "sns.scatterplot(data=df, x=\"Temperature (K)\", y=\"Absolute magnitude(Mv)\", hue=\"Star type\")\n",
    "plt.show()"
   ]
  },
  {
   "cell_type": "markdown",
   "metadata": {},
   "source": [
    "Он должен напоминать диаграмма Герцшпрунга — Рассела (Hertzsprung–Russell diagram, HR diagram)"
   ]
  },
  {
   "cell_type": "code",
   "execution_count": 6,
   "metadata": {},
   "outputs": [],
   "source": [
    "# запустите эту ячейку, чтобы посмотреть на HR-диаграмму\n",
    "from PIL import Image\n",
    "from urllib.request import urlopen\n",
    "url = \"https://upload.wikimedia.org/wikipedia/commons/6/6b/HRDiagram.png\"\n",
    "image = Image.open(urlopen(url))\n",
    "image.show()"
   ]
  },
  {
   "attachments": {
    "image.png": {
     "image/png": "[encoded data removed]"
    }
   },
   "cell_type": "markdown",
   "metadata": {},
   "source": [
    "hr_diagram![image.png](attachment:image.png)"
   ]
  },
  {
   "cell_type": "markdown",
   "metadata": {},
   "source": [
    "Заметно сходство"
   ]
  },
  {
   "cell_type": "markdown",
   "metadata": {},
   "source": [
    "## Подготовим данные"
   ]
  },
  {
   "cell_type": "markdown",
   "metadata": {},
   "source": [
    "Выделим отдельно признаки и ответы из таблицы, а также возьмем тесты"
   ]
  },
  {
   "cell_type": "code",
   "execution_count": 7,
   "metadata": {},
   "outputs": [
    {
     "name": "stdout",
     "output_type": "stream",
     "text": [
      "['Temperature (K)', 'Luminosity(L/Lo)', 'Radius(R/Ro)', 'Absolute magnitude(Mv)', 'Star type', 'Star color', 'Spectral Class']\n"
     ]
    }
   ],
   "source": [
    "# названия колонок\n",
    "cols = list(pd.read_csv(file_name, nrows = 1))\n",
    "print(cols)"
   ]
  },
  {
   "cell_type": "code",
   "execution_count": 8,
   "metadata": {},
   "outputs": [],
   "source": [
    "# берем все кроме типа звезды, цвета и спектрального класса (это все строки)\n",
    "dfx = pd.read_csv(file_name, usecols =[i for i in cols if i not in ['Star type', 'Star color', 'Spectral Class']])\n",
    "# берем ответы про тип звезды\n",
    "dfy = pd.read_csv(file_name, usecols =['Star type'], squeeze=True)"
   ]
  },
  {
   "cell_type": "code",
   "execution_count": 9,
   "metadata": {},
   "outputs": [],
   "source": [
    "# все преобразуем в списки\n",
    "X = dfx.values.tolist()\n",
    "Y = dfy.values.tolist()"
   ]
  },
  {
   "cell_type": "code",
   "execution_count": 10,
   "metadata": {},
   "outputs": [
    {
     "name": "stdout",
     "output_type": "stream",
     "text": [
      "test count =  24\n"
     ]
    }
   ],
   "source": [
    "# выбираем тесты\n",
    "Xtest = []\n",
    "Ytest = []\n",
    "n_added = []\n",
    "for i in range(0,len(X),10):\n",
    "    Xtest.append(X[i])\n",
    "    Ytest.append(Y[i])\n",
    "    n_added.append(i)\n",
    "\n",
    "# удаляем выбранные звезды из обучающей выборки\n",
    "for i in n_added[::-1]:\n",
    "    del X[i]\n",
    "    del Y[i]\n",
    "    \n",
    "print('test count = ', len(Xtest))"
   ]
  },
  {
   "cell_type": "code",
   "execution_count": 11,
   "metadata": {},
   "outputs": [],
   "source": [
    "# убедимся, что мы ничего не продублировали\n",
    "for v in Xtest:\n",
    "    if v in X:\n",
    "        print('!!!')"
   ]
  },
  {
   "cell_type": "code",
   "execution_count": 12,
   "metadata": {},
   "outputs": [
    {
     "name": "stdout",
     "output_type": "stream",
     "text": [
      "216\n",
      "216\n"
     ]
    }
   ],
   "source": [
    "# сверху ничего не попало, значит мы правильно разбили выборку\n",
    "# оставшиеся данные в кол-ве...\n",
    "print(len(X))\n",
    "print(len(Y))"
   ]
  },
  {
   "cell_type": "code",
   "execution_count": 13,
   "metadata": {},
   "outputs": [
    {
     "name": "stdout",
     "output_type": "stream",
     "text": [
      "[[3042.0, 0.0005, 0.1542, 16.6], [2600.0, 0.0003, 0.102, 18.7], [2800.0, 0.0002, 0.16, 16.65], [1939.0, 0.000138, 0.10300000000000001, 20.06], [2840.0, 0.00065, 0.11, 16.98]]\n",
      "[0, 0, 0, 0, 0]\n"
     ]
    }
   ],
   "source": [
    "print(X[:5])\n",
    "print(Y[:5])"
   ]
  },
  {
   "cell_type": "code",
   "execution_count": 14,
   "metadata": {},
   "outputs": [
    {
     "name": "stdout",
     "output_type": "stream",
     "text": [
      "[3068.0, 0.0024, 0.17, 16.12] 0\n"
     ]
    }
   ],
   "source": [
    "print(Xtest[0], Ytest[0])"
   ]
  },
  {
   "cell_type": "markdown",
   "metadata": {},
   "source": [
    "После всех действий выше мы имеем:\n",
    "<li>Множества X, Y - выборка и ответы</li>\n",
    "<li>Xtest, Ytest - тесты и ответы для тестов</li>"
   ]
  },
  {
   "cell_type": "markdown",
   "metadata": {},
   "source": [
    "## Используем kNN (k-nearest neighbors)"
   ]
  },
  {
   "cell_type": "markdown",
   "metadata": {},
   "source": [
    "#### Алгоритм kNN:\n",
    "Ориентируясь на ближайших соседей в пространстве признаков, относит документ к классу"
   ]
  },
  {
   "cell_type": "code",
   "execution_count": 15,
   "metadata": {},
   "outputs": [],
   "source": [
    "from sklearn.neighbors import KNeighborsClassifier"
   ]
  },
  {
   "cell_type": "code",
   "execution_count": 16,
   "metadata": {
    "scrolled": true
   },
   "outputs": [
    {
     "name": "stdout",
     "output_type": "stream",
     "text": [
      "neighbors number = 1 with score 0.6666666666666666\n",
      "neighbors number = 3 with score 0.7916666666666666\n",
      "neighbors number = 5 with score 0.75\n",
      "neighbors number = 7 with score 0.7083333333333334\n",
      "neighbors number = 9 with score 0.7083333333333334\n",
      "neighbors number = 11 with score 0.6666666666666666\n"
     ]
    }
   ],
   "source": [
    "# посмотрим на качество работы алгоритма, выбирая параметр\n",
    "for n in range(1,13,2):\n",
    "    neigh = KNeighborsClassifier(n_neighbors=n)\n",
    "    neigh.fit(X, Y)\n",
    "    print('neighbors number =', n ,'with score', neigh.score(Xtest,Ytest))\n",
    "    # print(neigh.score(Xtest,Ytest))"
   ]
  },
  {
   "cell_type": "markdown",
   "metadata": {},
   "source": [
    "#### Лучше определяет тип звезды на тестовой выборке при n = 3"
   ]
  },
  {
   "cell_type": "code",
   "execution_count": 18,
   "metadata": {},
   "outputs": [],
   "source": [
    "# берем ответы лучшей модели\n",
    "neigh = KNeighborsClassifier(n_neighbors=3)\n",
    "neigh.fit(X, Y)\n",
    "\n",
    "Ypred = neigh.predict(Xtest)\n",
    "Yprob = neigh.predict_proba(Xtest)\n",
    "# возьмем вероятность отношения к классу\n",
    "Yscore = []\n",
    "for i in range(len(Yprob)):\n",
    "    Yscore.append(max(Yprob[i]))"
   ]
  },
  {
   "cell_type": "markdown",
   "metadata": {},
   "source": [
    "## Оцениваем kNN"
   ]
  },
  {
   "cell_type": "code",
   "execution_count": 19,
   "metadata": {},
   "outputs": [
    {
     "name": "stdout",
     "output_type": "stream",
     "text": [
      "Accuracy classification score is 0.7916666666666666\n",
      "F1 score is 0.7712121212121211\n",
      "Log loss is 3.1676073178666377\n"
     ]
    }
   ],
   "source": [
    "# посмотрим на различные метрики\n",
    "from sklearn.metrics import accuracy_score\n",
    "from sklearn.metrics import f1_score\n",
    "from sklearn.metrics import log_loss\n",
    "\n",
    "print(\"Accuracy classification score is\", accuracy_score(Ytest, Ypred, normalize=True))\n",
    "print(\"F1 score is\", f1_score(Ytest, Ypred, average='macro'))\n",
    "print(\"Log loss is\", log_loss(Ytest, Yprob))"
   ]
  },
  {
   "cell_type": "markdown",
   "metadata": {},
   "source": [
    "https://scikit-learn.org/stable/modules/generated/sklearn.metrics.accuracy_score.html#sklearn.metrics.accuracy_score"
   ]
  },
  {
   "cell_type": "markdown",
   "metadata": {},
   "source": [
    "https://scikit-learn.org/stable/modules/generated/sklearn.metrics.f1_score.html#sklearn.metrics.f1_score"
   ]
  },
  {
   "cell_type": "markdown",
   "metadata": {},
   "source": [
    "https://scikit-learn.org/stable/modules/generated/sklearn.metrics.log_loss.html#sklearn.metrics.log_loss"
   ]
  },
  {
   "cell_type": "markdown",
   "metadata": {},
   "source": [
    "## Используем RandomForest"
   ]
  },
  {
   "cell_type": "markdown",
   "metadata": {},
   "source": [
    "#### Алгоритм RF:\n",
    "Строится множество решающих деревьев, в задаче классификации принимается решение голосованием по большинству. Все деревья строятся независимо по следующей схеме:"
   ]
  },
  {
   "cell_type": "markdown",
   "metadata": {},
   "source": [
    "<li>Выбирается подвыборка обучающей выборки заданного размера – по ней строится дерево (для каждого дерева — своя подвыборка).</li>"
   ]
  },
  {
   "cell_type": "markdown",
   "metadata": {},
   "source": [
    "<li>Для построения каждого расщепления в дереве просматриваем max_features случайных признаков (для каждого нового расщепления — свои случайные признаки).</li>"
   ]
  },
  {
   "cell_type": "markdown",
   "metadata": {},
   "source": [
    "<li>Выбираем наилучшие признак и расщепление по нему (по заранее заданному критерию). Дерево строится, как правило, до исчерпания выборки (пока в листьях не останутся представители только одного класса), но в современных реализациях есть параметры, которые ограничивают высоту дерева, число объектов в листьях и число объектов в подвыборке, при котором проводится расщепление.</li>"
   ]
  },
  {
   "cell_type": "code",
   "execution_count": 20,
   "metadata": {},
   "outputs": [
    {
     "name": "stdout",
     "output_type": "stream",
     "text": [
      "n_estimators = 10 with score 1.0\n",
      "n_estimators = 50 with score 1.0\n",
      "n_estimators = 100 with score 1.0\n",
      "n_estimators = 300 with score 1.0\n"
     ]
    }
   ],
   "source": [
    "from sklearn.ensemble import RandomForestClassifier\n",
    "for n in [10,50,100,300]:\n",
    "    clf = RandomForestClassifier(n_estimators=n, max_depth=2, max_features=4, random_state=0)\n",
    "    clf.fit(X, Y)\n",
    "    print(\"n_estimators =\", n, \"with score\", clf.score(Xtest, Ytest))"
   ]
  },
  {
   "cell_type": "markdown",
   "metadata": {},
   "source": [
    "В таком случае, возьмем стандартное число деревьев"
   ]
  },
  {
   "cell_type": "code",
   "execution_count": 21,
   "metadata": {},
   "outputs": [],
   "source": [
    "clf = RandomForestClassifier(n_estimators=100, max_depth=2, max_features=4, random_state=0)\n",
    "clf.fit(X, Y)\n",
    "\n",
    "Ypred = clf.predict(Xtest)\n",
    "Yprob = clf.predict_proba(Xtest)\n",
    "# возьмем вероятность отношения к классу\n",
    "Yscore = []\n",
    "for i in range(len(Yprob)):\n",
    "    Yscore.append(max(Yprob[i]))"
   ]
  },
  {
   "cell_type": "markdown",
   "metadata": {},
   "source": [
    "## Оцениваем RF"
   ]
  },
  {
   "cell_type": "code",
   "execution_count": 22,
   "metadata": {},
   "outputs": [
    {
     "name": "stdout",
     "output_type": "stream",
     "text": [
      "Accuracy classification score is 1.0\n",
      "F1 score is 1.0\n",
      "Log loss is 0.6951710602520763\n"
     ]
    }
   ],
   "source": [
    "# посмотрим на различные метрики\n",
    "from sklearn.metrics import accuracy_score\n",
    "from sklearn.metrics import f1_score\n",
    "from sklearn.metrics import log_loss\n",
    "\n",
    "print(\"Accuracy classification score is\", accuracy_score(Ytest, Ypred, normalize=True))\n",
    "print(\"F1 score is\", f1_score(Ytest, Ypred, average='macro'))\n",
    "print(\"Log loss is\", log_loss(Ytest, Yprob))"
   ]
  },
  {
   "cell_type": "markdown",
   "metadata": {},
   "source": [
    "## Вывод о работе kNN и RF"
   ]
  },
  {
   "cell_type": "markdown",
   "metadata": {},
   "source": [
    "RF гораздо лучше справился с тестовой выборкой, чем kNN. Даже при небольшом кол-ве деревьев, задействуя все признаки выборки, мы видим огромную разницу. То есть RF модель можно еще и быстро обучить, уменьшив n_estimators."
   ]
  },
  {
   "cell_type": "markdown",
   "metadata": {},
   "source": [
    "Однако стоит заметить, что данных хотелось бы гораздо больше, для уверенной оценки."
   ]
  },
  {
   "cell_type": "markdown",
   "metadata": {},
   "source": [
    "#### © Шулюгин Иван МГУ ВМК 325. ноябрь 2020"
   ]
  }
 ],
 "metadata": {
  "kernelspec": {
   "display_name": "Python 3",
   "language": "python",
   "name": "python3"
  },
  "language_info": {
   "codemirror_mode": {
    "name": "ipython",
    "version": 3
   },
   "file_extension": ".py",
   "mimetype": "text/x-python",
   "name": "python",
   "nbconvert_exporter": "python",
   "pygments_lexer": "ipython3",
   "version": "3.7.4"
  }
 },
 "nbformat": 4,
 "nbformat_minor": 2
}
